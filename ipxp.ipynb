{
 "cells": [
  {
   "cell_type": "code",
   "execution_count": 1,
   "metadata": {},
   "outputs": [],
   "source": [
    "import cv2\n",
    "import numpy as np"
   ]
  },
  {
   "cell_type": "code",
   "execution_count": 2,
   "metadata": {},
   "outputs": [],
   "source": [
    "#imread adnd imshow\n",
    "\n",
    "img_path = 'IMG_2458.jpg'\n",
    "img = cv2.imread(img_path)\n",
    "cv2.imshow('image', img)\n",
    "cv2.waitKey(0)\n",
    "cv2.destroyAllWindows()"
   ]
  },
  {
   "cell_type": "code",
   "execution_count": 3,
   "metadata": {},
   "outputs": [],
   "source": [
    "hw = 400\n",
    "ww = 500\n",
    "\n",
    "rez_img = cv2.resize(img, (hw, ww))\n",
    "cv2.imshow('imageezzzz', rez_img)\n",
    "\n",
    "cv2.waitKey(0)\n",
    "cv2.destroyAllWindows()"
   ]
  },
  {
   "cell_type": "code",
   "execution_count": 4,
   "metadata": {},
   "outputs": [],
   "source": [
    "#dimensions (height width) check block2, size?, resize, shape check block2\n",
    "\n",
    "nh = 500\n",
    "nw = 500\n",
    "\n",
    "new_img = cv2.resize(img, (nh, nw))\n",
    "\n",
    "cv2.imshow('image2', new_img)\n",
    "cv2.imshow('image', img)\n",
    "cv2.waitKey(0)\n",
    "cv2.destroyAllWindows()\n"
   ]
  },
  {
   "cell_type": "code",
   "execution_count": 5,
   "metadata": {},
   "outputs": [
    {
     "name": "stdout",
     "output_type": "stream",
     "text": [
      "[[[222 138  96]\n",
      "  [222 138  96]\n",
      "  [222 138  96]\n",
      "  ...\n",
      "  [254 248 241]\n",
      "  [254 248 241]\n",
      "  [254 248 241]]\n",
      "\n",
      " [[222 138  96]\n",
      "  [222 138  96]\n",
      "  [222 138  96]\n",
      "  ...\n",
      "  [254 248 241]\n",
      "  [254 248 241]\n",
      "  [254 248 241]]\n",
      "\n",
      " [[221 137  95]\n",
      "  [221 137  95]\n",
      "  [221 137  95]\n",
      "  ...\n",
      "  [254 248 241]\n",
      "  [254 248 241]\n",
      "  [254 248 241]]\n",
      "\n",
      " ...\n",
      "\n",
      " [[221  91   0]\n",
      "  [221  91   2]\n",
      "  [219  88   1]\n",
      "  ...\n",
      "  [204  65   2]\n",
      "  [202  66   0]\n",
      "  [203  67   1]]\n",
      "\n",
      " [[219  89   0]\n",
      "  [220  90   1]\n",
      "  [218  87   0]\n",
      "  ...\n",
      "  [204  64   3]\n",
      "  [201  65   1]\n",
      "  [202  66   2]]\n",
      "\n",
      " [[218  88   0]\n",
      "  [219  89   0]\n",
      "  [217  86   0]\n",
      "  ...\n",
      "  [204  64   3]\n",
      "  [201  65   1]\n",
      "  [202  66   2]]]\n"
     ]
    }
   ],
   "source": [
    "#Image matrix its content\n",
    "\n",
    "image_matrix = np.array(img)\n",
    "print(image_matrix)"
   ]
  },
  {
   "cell_type": "code",
   "execution_count": 6,
   "metadata": {},
   "outputs": [
    {
     "name": "stdout",
     "output_type": "stream",
     "text": [
      "height: 4032, width: 3024\n"
     ]
    }
   ],
   "source": [
    "#Image shape i.e. height, width, channels\n",
    "\n",
    "height, width, x = img.shape\n",
    "\n",
    "print(f\"height: {height}, width: {width}\")"
   ]
  },
  {
   "cell_type": "code",
   "execution_count": 7,
   "metadata": {},
   "outputs": [],
   "source": [
    "#Availability of 3 Color Planes\n",
    "\n",
    "height, width, x = rez_img.shape\n",
    "\n",
    "temp1 = np.zeros((height, width,x), np.uint8)\n",
    "temp2 = np.zeros((height, width,x), np.uint8)\n",
    "temp3 = np.zeros((height, width,x), np.uint8)\n",
    "\n",
    "temp1[:,:,0] = rez_img[:,:,0]\n",
    "temp2[:,:,1] = rez_img[:,:,1]\n",
    "temp3[:,:,2] = rez_img[:,:,2]\n",
    "\n",
    "cv2.imshow('blue image', temp1)\n",
    "cv2.imshow('green image', temp2)\n",
    "cv2.imshow('red image', temp3)\n",
    "\n",
    "cv2.waitKey(0)\n",
    "cv2.destroyAllWindows()\n"
   ]
  },
  {
   "cell_type": "code",
   "execution_count": null,
   "metadata": {},
   "outputs": [],
   "source": [
    "# entirety of task2\n",
    "\n",
    "img2 = cv2.imread('IMG_2458.jpg')\n",
    "img3 = cv2.imread('IMG_2458_cpy.jpg')\n",
    "\n",
    "addimg = cv2.add(img2, img3)\n",
    "subimg = cv2.subtract(img2, img3)\n",
    "divimg = cv2.divide(img2, img3)\n",
    "mulimg = cv2.multiply(img2, img3)\n",
    "\n",
    "d = []\n",
    "m = []\n",
    "z = [0.5, 1, 10, 25, 50]\n",
    "\n",
    "for i in range(0, 5):\n",
    "    d.append(cv2.divide(img2, z[i]))\n",
    "    m.append(cv2.multiply(img2, z[i]))\n",
    "\n",
    "cv2.imshow('add', addimg)\n",
    "cv2.imshow('sub', subimg)\n",
    "cv2.imshow('div', divimg)\n",
    "cv2.imshow('mul', mulimg)\n",
    "\n",
    "for i in range(0, 5):\n",
    "    cv2.imshow(f'div{i}', d[i])\n",
    "    cv2.imshow(f'mul{i}', m[i])\n",
    "    cv2.waitKey(0)\n",
    "    cv2.destroyAllWindows()\n",
    "\n",
    "cv2.waitKey(0)\n",
    "cv2.destroyAllWindows()"
   ]
  },
  {
   "cell_type": "code",
   "execution_count": null,
   "metadata": {},
   "outputs": [],
   "source": [
    "import cv2\n",
    "\n",
    "def convert_to_grayscale_and_save(image_path, output_path):\n",
    "    # Read the image from the specified file path\n",
    "    image = cv2.imread(image_path)\n",
    "\n",
    "    if image is None:\n",
    "        print(\"Error: Image not found or invalid file path.\")\n",
    "        return\n",
    "\n",
    "    # Convert the image to grayscale\n",
    "    grayscale_image = cv2.cvtColor(image, cv2.COLOR_BGR2GRAY)\n",
    "\n",
    "    # Save the grayscale image as JPG\n",
    "    cv2.imwrite(output_path, grayscale_image)\n",
    "\n",
    "if __name__ == \"__main__\":\n",
    "    # Replace 'path/to/your/image.jpg' with the actual path to your image file\n",
    "    image_path = 'IMG_2458.jpg'\n",
    "    output_path = 'IMG_2458_grey.jpg'\n",
    "\n",
    "    convert_to_grayscale_and_save(image_path, output_path)"
   ]
  }
 ],
 "metadata": {
  "kernelspec": {
   "display_name": "Python 3",
   "language": "python",
   "name": "python3"
  },
  "language_info": {
   "codemirror_mode": {
    "name": "ipython",
    "version": 3
   },
   "file_extension": ".py",
   "mimetype": "text/x-python",
   "name": "python",
   "nbconvert_exporter": "python",
   "pygments_lexer": "ipython3",
   "version": "3.10.7"
  },
  "orig_nbformat": 4
 },
 "nbformat": 4,
 "nbformat_minor": 2
}
