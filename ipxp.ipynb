{
 "cells": [
  {
   "cell_type": "code",
   "execution_count": 2,
   "metadata": {},
   "outputs": [],
   "source": [
    "import cv2\n",
    "import numpy as np"
   ]
  },
  {
   "cell_type": "code",
   "execution_count": 9,
   "metadata": {},
   "outputs": [
    {
     "data": {
      "text/plain": [
       "True"
      ]
     },
     "execution_count": 9,
     "metadata": {},
     "output_type": "execute_result"
    }
   ],
   "source": [
    "# Replace 'path/to/your/image.jpg' with the actual path to your image file\n",
    "image_path = 'IMG_2458.jpg'\n",
    "output_path = 'IMG_2458_grey.jpg'\n",
    "\n",
    "# Read the image from the specified file path\n",
    "image = cv2.imread(image_path)\n",
    "\n",
    "# Convert the image to grayscale\n",
    "grayscale_image = cv2.cvtColor(image, cv2.COLOR_BGR2GRAY)\n",
    "\n",
    "# Save the grayscale image as JPG\n",
    "cv2.imwrite(output_path, grayscale_image)"
   ]
  },
  {
   "cell_type": "code",
   "execution_count": 10,
   "metadata": {},
   "outputs": [],
   "source": [
    "image = cv2.resize(image, (1000, 1000))\n",
    "cv2.imshow(\"rz\", image)\n",
    "\n",
    "cv2.waitKey(0)\n",
    "cv2.destroyAllWindows()"
   ]
  },
  {
   "cell_type": "code",
   "execution_count": 12,
   "metadata": {},
   "outputs": [],
   "source": [
    "import cv2\n",
    "import numpy as np\n",
    "\n",
    "# Modify at least 10 pixels randomly in the image\n",
    "num_pixels=10\n",
    "\n",
    "height, width = image.shape[:2]\n",
    "\n",
    "mod_img = image\n",
    "\n",
    "for _ in range(num_pixels):\n",
    "    # Generate random coordinates (row, column)\n",
    "    row = np.random.randint(0, height)\n",
    "    col = np.random.randint(0, width)\n",
    "\n",
    "    # Generate a random intensity value (0 to 255)\n",
    "    intensity = np.random.randint(0, 256)\n",
    "\n",
    "    # Modify the pixel at the random position with the random intensity\n",
    "    mod_img[row, col] = intensity\n",
    "    # Wait for a key press and then close the windows\n",
    "\n",
    "\n",
    "cv2.imshow(\"Original Image\", image)\n",
    "cv2.imshow(\"Modified Image\", mod_img)\n",
    "\n",
    "cv2.waitKey(0)\n",
    "cv2.destroyAllWindows()"
   ]
  },
  {
   "cell_type": "code",
   "execution_count": 13,
   "metadata": {},
   "outputs": [
    {
     "name": "stdout",
     "output_type": "stream",
     "text": [
      "[[[118  89  75]\n",
      "  [119  90  76]\n",
      "  [121  92  78]]\n",
      "\n",
      " [[118  89  75]\n",
      "  [230 230 230]\n",
      "  [120  91  77]]\n",
      "\n",
      " [[120  91  77]\n",
      "  [121  92  78]\n",
      "  [122  93  79]]]\n",
      "Modified Pixel: (578, 762), Intensity: 230\n",
      "4-Connectivity Neighbors:\n",
      "Top:       [119  90  76]\n",
      "Bottom:    [121  92  78]\n",
      "Left:      [118  89  75]\n",
      "Right:     [120  91  77]\n",
      "8-Connectivity Neighbors:\n",
      "Top-Left:      [118  89  75]\n",
      "Top-Right:     [121  92  78]\n",
      "Bottom-Left:   [120  91  77]\n",
      "Bottom-Right:  [122  93  79]\n",
      "--------------------\n"
     ]
    }
   ],
   "source": [
    "block = image[row-1:row+2, col-1:col+2]\n",
    "print(block)\n",
    "# Print the coordinates and intensity values of the modified pixel and its neighbors\n",
    "print(f\"Modified Pixel: ({row}, {col}), Intensity: {intensity}\")\n",
    "print(\"4-Connectivity Neighbors:\")\n",
    "print(\"Top:      \", block[0, 1])\n",
    "print(\"Bottom:   \", block[2, 1])\n",
    "print(\"Left:     \", block[1, 0])\n",
    "print(\"Right:    \", block[1, 2])\n",
    "\n",
    "print(\"8-Connectivity Neighbors:\")\n",
    "print(\"Top-Left:     \", block[0, 0])\n",
    "print(\"Top-Right:    \", block[0, 2])\n",
    "print(\"Bottom-Left:  \", block[2, 0])\n",
    "print(\"Bottom-Right: \", block[2, 2])\n",
    "print(\"-\" * 20)"
   ]
  },
  {
   "cell_type": "code",
   "execution_count": 7,
   "metadata": {},
   "outputs": [
    {
     "ename": "error",
     "evalue": "OpenCV(4.7.0) :-1: error: (-5:Bad argument) in function 'imshow'\n> Overload resolution failed:\n>  - Can't convert object to 'str' for 'winname'\n>  - Can't convert object to 'str' for 'winname'\n>  - Can't convert object to 'str' for 'winname'\n",
     "output_type": "error",
     "traceback": [
      "\u001b[1;31m---------------------------------------------------------------------------\u001b[0m",
      "\u001b[1;31merror\u001b[0m                                     Traceback (most recent call last)",
      "Cell \u001b[1;32mIn[7], line 3\u001b[0m\n\u001b[0;32m      1\u001b[0m image \u001b[39m=\u001b[39m cv2\u001b[39m.\u001b[39mimread(\u001b[39m'\u001b[39m\u001b[39mIMG_2458_cpy.jpg\u001b[39m\u001b[39m'\u001b[39m)\n\u001b[0;32m      2\u001b[0m image2 \u001b[39m=\u001b[39m cv2\u001b[39m.\u001b[39mimread(\u001b[39m'\u001b[39m\u001b[39mIMG_2458.jpg\u001b[39m\u001b[39m'\u001b[39m)\n\u001b[1;32m----> 3\u001b[0m cv2\u001b[39m.\u001b[39;49mimshow( image, cv2\u001b[39m.\u001b[39;49mCOLOR_BGR2GRAY)\n\u001b[0;32m      4\u001b[0m cv2\u001b[39m.\u001b[39mimshow( image2, cv2\u001b[39m.\u001b[39mCOLOR_BGR2GRAY)\n\u001b[0;32m      5\u001b[0m cv2\u001b[39m.\u001b[39mwaitKey(\u001b[39m0\u001b[39m)\n",
      "\u001b[1;31merror\u001b[0m: OpenCV(4.7.0) :-1: error: (-5:Bad argument) in function 'imshow'\n> Overload resolution failed:\n>  - Can't convert object to 'str' for 'winname'\n>  - Can't convert object to 'str' for 'winname'\n>  - Can't convert object to 'str' for 'winname'\n"
     ]
    }
   ],
   "source": [
    "cv2.imshow(, 'IMG_2458_cpy.jpg', cv2.COLOR_BGR2GRAY)\n",
    "cv2.imshow('IMG_2458.jpg', cv2.COLOR_BGR2GRAY)\n",
    "cv2.waitKey(0)\n",
    "cv2.destroyAllWindows()"
   ]
  }
 ],
 "metadata": {
  "kernelspec": {
   "display_name": "Python 3",
   "language": "python",
   "name": "python3"
  },
  "language_info": {
   "codemirror_mode": {
    "name": "ipython",
    "version": 3
   },
   "file_extension": ".py",
   "mimetype": "text/x-python",
   "name": "python",
   "nbconvert_exporter": "python",
   "pygments_lexer": "ipython3",
   "version": "3.10.7"
  },
  "orig_nbformat": 4
 },
 "nbformat": 4,
 "nbformat_minor": 2
}
