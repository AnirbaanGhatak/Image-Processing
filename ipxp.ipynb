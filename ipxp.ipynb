{
 "cells": [
  {
   "cell_type": "code",
   "execution_count": 2,
   "metadata": {},
   "outputs": [],
   "source": [
    "import cv2\n",
    "import numpy as np"
   ]
  },
  {
   "cell_type": "code",
   "execution_count": 3,
   "metadata": {},
   "outputs": [],
   "source": [
    "def show_image(image, title='image'):\n",
    "    cv2.imshow(title, image)\n",
    "    cv2.waitKey(0)\n",
    "    cv2.destroyAllWindows()"
   ]
  },
  {
   "cell_type": "code",
   "execution_count": 23,
   "metadata": {},
   "outputs": [],
   "source": [
    "# Replace 'path/to/your/image.jpg' with the actual path to your image file\n",
    "image_path = 'IMG_2458.jpg'\n",
    "\n",
    "# Read the image from the specified file path\n",
    "image = cv2.imread(image_path)\n",
    "image = cv2.cvtColor(image, cv2.COLOR_BGR2GRAY)\n",
    "image = cv2.resize(image, (500,500))\n",
    "show_image(image)"
   ]
  },
  {
   "cell_type": "code",
   "execution_count": 24,
   "metadata": {},
   "outputs": [],
   "source": [
    "#adding noise to the image\n",
    "\n",
    "def addnoise(image):\n",
    "    mean = 0\n",
    "    stddev = 180\n",
    "    noise = np.zeros(image.shape, np.uint8)\n",
    "    cv2.randn(noise, mean, stddev)\n",
    "\n",
    "    noisy_img = cv2.add(image, noise)\n",
    "    return noisy_img"
   ]
  },
  {
   "cell_type": "code",
   "execution_count": 25,
   "metadata": {},
   "outputs": [],
   "source": [
    "def high_pass_filter(noisy_img, kernel_size = 3):\n",
    "    kernel = np.ones((kernel_size, kernel_size), np.float32) / (kernel_size**2)\n",
    "    blurred = cv2.filter2D(noisy_img, -1, kernel)\n",
    "    hpf = noisy_img - blurred\n",
    "    \n",
    "    return hpf"
   ]
  },
  {
   "cell_type": "code",
   "execution_count": 26,
   "metadata": {},
   "outputs": [],
   "source": [
    "def low_pass_filter(image, kernel_size=3):\n",
    "    kernel = np.ones((kernel_size, kernel_size), np.float32) / (kernel_size**2)\n",
    "    lpf = cv2.filter2D(image, -1, kernel)\n",
    "\n",
    "    return lpf"
   ]
  },
  {
   "cell_type": "code",
   "execution_count": 27,
   "metadata": {},
   "outputs": [],
   "source": [
    "def median_filter(noisy_img, kernel_size=3):\n",
    "    median_filter = cv2.medianBlur(noisy_img, kernel_size)\n",
    "    return median_filter"
   ]
  },
  {
   "cell_type": "code",
   "execution_count": 32,
   "metadata": {},
   "outputs": [],
   "source": [
    "def salt_pepper(image):\n",
    "\n",
    "    noisy_imagesp = np.copy(image)\n",
    "    num_pixels = int(0.02 * image.size)\n",
    "\n",
    "    # Add salt noise (white pixels)\n",
    "    salt_coords = [np.random.randint(0, i - 1, num_pixels) for i in image.shape]\n",
    "    noisy_imagesp[salt_coords[0], salt_coords[1]] = 255\n",
    "\n",
    "    # Add pepper noise (black pixels)\n",
    "    pepper_coords = [np.random.randint(0, i - 1, num_pixels) for i in image.shape]\n",
    "    noisy_imagesp[pepper_coords[0], pepper_coords[1]] = 0\n",
    "\n",
    "    return noisy_imagesp\n"
   ]
  },
  {
   "cell_type": "code",
   "execution_count": 33,
   "metadata": {},
   "outputs": [],
   "source": [
    "noisy_image = addnoise(image)\n",
    "\n",
    "show_image(high_pass_filter(noisy_image, 2), 'High Pass Filter')\n",
    "show_image(low_pass_filter(noisy_image), 'Low Pass Filter')\n",
    "show_image(median_filter(noisy_image), 'Median Filter')\n",
    "\n",
    "sp_img = salt_pepper(image)\n",
    "show_image(high_pass_filter(sp_img, 3), 'Salt&Pepper High Pass Filter')\n",
    "show_image(low_pass_filter(sp_img), 'Salt&Pepper Low Pass Filter')\n",
    "show_image(median_filter(sp_img), 'Salt&Pepper Median Filter')"
   ]
  }
 ],
 "metadata": {
  "kernelspec": {
   "display_name": "Python 3",
   "language": "python",
   "name": "python3"
  },
  "language_info": {
   "codemirror_mode": {
    "name": "ipython",
    "version": 3
   },
   "file_extension": ".py",
   "mimetype": "text/x-python",
   "name": "python",
   "nbconvert_exporter": "python",
   "pygments_lexer": "ipython3",
   "version": "3.10.7"
  },
  "orig_nbformat": 4
 },
 "nbformat": 4,
 "nbformat_minor": 2
}
