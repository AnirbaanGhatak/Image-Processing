{
 "cells": [
  {
   "cell_type": "code",
   "execution_count": 6,
   "metadata": {},
   "outputs": [],
   "source": [
    "# %%\n",
    "#Name: Anirbaan Ghatak\n",
    "#Roll no: C026\n",
    "#Aim:To Write a program to apply various (Hadamard and Walsh)  transforms on an image and compare the results.\n",
    "\n",
    "\n",
    "import numpy as np\n",
    "import cv2"
   ]
  },
  {
   "cell_type": "code",
   "execution_count": 15,
   "metadata": {},
   "outputs": [],
   "source": [
    "img=cv2.resize(cv2.imread('IMG_2458_grey.jpg', cv2.IMREAD_GRAYSCALE),(256,256))"
   ]
  },
  {
   "cell_type": "code",
   "execution_count": 12,
   "metadata": {},
   "outputs": [],
   "source": [
    "def showImage(img):\n",
    "    cv2.imshow(\"img\", mat=img)\n",
    "    cv2.waitKey(0)\n",
    "    cv2.destroyAllWindows()\n"
   ]
  },
  {
   "cell_type": "code",
   "execution_count": 13,
   "metadata": {},
   "outputs": [],
   "source": [
    "h2=np.array([[1,1],[1,-1]])\n",
    "h=h2.copy()\n",
    "for i in range(7):\n",
    "    h=np.kron(h,h2)\n",
    "hT=np.transpose(h)\n",
    "showImage(h.astype(np.uint8))"
   ]
  },
  {
   "cell_type": "code",
   "execution_count": 16,
   "metadata": {},
   "outputs": [],
   "source": [
    "hadamard=np.dot(np.dot(h,img),hT)\n",
    "\n",
    "showImage(hadamard.astype(np.uint8))\n",
    "\n",
    "inverse=np.dot(np.dot(h,hadamard),hT)/(256**2)\n",
    "inverse\n",
    "\n",
    "showImage(inverse.astype(np.uint8))"
   ]
  },
  {
   "cell_type": "code",
   "execution_count": 18,
   "metadata": {},
   "outputs": [],
   "source": [
    "rc=dict()\n",
    "for i in range(len(h)):\n",
    "    change=0\n",
    "    x=1\n",
    "    for j in h[i]:\n",
    "        if x!=j:\n",
    "            x=j\n",
    "            change+=1\n",
    "    rc[i]=change\n"
   ]
  },
  {
   "cell_type": "code",
   "execution_count": 19,
   "metadata": {},
   "outputs": [],
   "source": [
    "sort = sorted(rc.items(), key=lambda kv:\n",
    "              kv[1])\n",
    "walsh = h.copy()\n",
    "for i in range(len(walsh)):\n",
    "    index = sort[i][0]\n",
    "    walsh[i] = h[index]\n",
    "showImage(walsh.astype(np.uint8))\n",
    "\n",
    "\n",
    "walshT = np.dot(np.dot(walsh, img), np.transpose(walsh))\n",
    "\n",
    "\n",
    "showImage(walshT.astype(np.uint8))\n",
    "\n",
    "\n",
    "inverseWalsh = np.dot(np.dot(walsh, walshT), np.transpose(walsh))//(256**2)\n",
    "\n",
    "\n",
    "showImage(inverseWalsh.astype(np.uint8))"
   ]
  },
  {
   "cell_type": "code",
   "execution_count": null,
   "metadata": {},
   "outputs": [],
   "source": []
  },
  {
   "cell_type": "code",
   "execution_count": null,
   "metadata": {},
   "outputs": [],
   "source": [
    "\n",
    "    \n",
    "\n",
    "# %%\n",
    "\n",
    "# %%\n",
    "\n",
    "\n",
    "# %%\n",
    "\n",
    "\n",
    "# %%\n",
    "def transformation(image,transform):\n",
    "    \n",
    "    inverse=np.dot(np.dot(transform,image),np.transpose(transform))//(256**2)\n",
    "    showImage(inverse.astype(np.uint8))\n",
    "    compare=cv2.subtract(grayImg.astype(np.uint8),inverse.astype(np.uint8))\n",
    "    showImage(compare)\n",
    "    return compare\n",
    "\n",
    "# %%\n",
    "def zeroQuad(a,b,c,d,image):\n",
    "    for i in range(a,b):\n",
    "        for j in range(c,d):\n",
    "            image[i][j]=0\n",
    "\n",
    "    return image\n",
    "\n",
    "# %%\n",
    "quad4=zeroQuad(128,256,128,256,hadamard.copy())\n",
    "quad4W=zeroQuad(128,256,128,256,walshT.copy())\n",
    "quad3H=zeroQuad(128,256,0,256,hadamard.copy())\n",
    "quad3W=zeroQuad(128,256,0,256,walshT.copy())\n",
    "quad2H=zeroQuad(128,256,0,256,hadamard.copy())\n",
    "quad2H=zeroQuad(0,128,128,256,quad2H.copy())\n",
    "quad2W=zeroQuad(128,256,0,256,walshT.copy())\n",
    "quad2W=zeroQuad(0,128,128,256,quad2W.copy())\n",
    "\n",
    "# %%\n",
    "s4h=transformation(quad4,h)\n",
    "s4w=transformation(quad4W,walsh)\n",
    "s3w=transformation(quad3H,h)\n",
    "s3h=transformation(quad3W,walsh)\n",
    "s2h=transformation(quad2H,h)\n",
    "s2w=transformation(quad2W,walsh)\n",
    "\n",
    "# %%\n",
    "def calculate(image):\n",
    "    sum=0\n",
    "    for i in range(256):\n",
    "        for j in range(256):\n",
    "            sum+=image[i][j]**2\n",
    "\n",
    "    return sum**0.5\n",
    "\n",
    "# %%\n",
    "print(calculate(s4h))\n",
    "print(calculate(s4w))\n",
    "print(calculate(s3h))\n",
    "print(calculate(s3w))\n",
    "print(calculate(s2h))\n",
    "print(calculate(s2w))\n"
   ]
  }
 ],
 "metadata": {
  "kernelspec": {
   "display_name": "Python 3",
   "language": "python",
   "name": "python3"
  },
  "language_info": {
   "codemirror_mode": {
    "name": "ipython",
    "version": 3
   },
   "file_extension": ".py",
   "mimetype": "text/x-python",
   "name": "python",
   "nbconvert_exporter": "python",
   "pygments_lexer": "ipython3",
   "version": "3.10.7"
  },
  "orig_nbformat": 4
 },
 "nbformat": 4,
 "nbformat_minor": 2
}
